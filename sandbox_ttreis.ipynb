{
 "cells": [
  {
   "attachments": {},
   "cell_type": "markdown",
   "metadata": {},
   "source": [
    "# Spatial Data Plotting"
   ]
  },
  {
   "cell_type": "code",
   "execution_count": 1,
   "metadata": {},
   "outputs": [
    {
     "name": "stderr",
     "output_type": "stream",
     "text": [
      "/Users/tim.treis/anaconda3/envs/spatialdata/lib/python3.10/site-packages/geopandas/_compat.py:123: UserWarning: The Shapely GEOS version (3.11.1-CAPI-1.17.1) is incompatible with the GEOS version PyGEOS was compiled with (3.10.4-CAPI-1.16.2). Conversions between both will be slow.\n",
      "  warnings.warn(\n",
      "/Users/tim.treis/Documents/GitHub/spatialdata/spatialdata/_compat.py:18: UserWarning: Geopandas was set to use PyGEOS, changing to shapely 2.0 with:\n",
      "\n",
      "\tgeopandas.options.use_pygeos = True\n",
      "\n",
      "If you intended to use PyGEOS, set the option to False.\n",
      "  warnings.warn(\n",
      "/Users/tim.treis/anaconda3/envs/spatialdata/lib/python3.10/site-packages/anndata/experimental/pytorch/_annloader.py:18: UserWarning: Сould not load pytorch.\n",
      "  warnings.warn(\"Сould not load pytorch.\")\n"
     ]
    }
   ],
   "source": [
    "import spatialdata as sd\n",
    "\n",
    "data_path = \"/Users/tim.treis/Documents/GitHub/spatialdata-sandbox/merfish/\"\n",
    "data_name = \"merfish_data.zarr\"\n",
    "\n",
    "sdata = sd.SpatialData.read(data_path + data_name)"
   ]
  },
  {
   "cell_type": "code",
   "execution_count": 2,
   "metadata": {},
   "outputs": [
    {
     "name": "stdout",
     "output_type": "stream",
     "text": [
      "SpatialData object with:\n",
      "├── Images\n",
      "│     └── 'rasterized': SpatialImage[cyx] (1, 522, 575)\n",
      "├── Points\n",
      "│     └── 'single_molecule': pyarrow.Table shape: (3714642, 3) (2D points)\n",
      "├── Polygons\n",
      "│     └── 'anatomical': GeoDataFrame shape: (6, 1) (2D polygons)\n",
      "├── Shapes\n",
      "│     └── 'cells': AnnData with osbm.spatial (2399, 2)\n",
      "└── Table\n",
      "      └── 'AnnData object with n_obs × n_vars = 2399 × 268\n",
      "    obs: 'cell_id'\n",
      "    uns: 'spatialdata_attrs'': AnnData (2399, 268)\n"
     ]
    }
   ],
   "source": [
    "print(sdata)"
   ]
  }
 ],
 "metadata": {
  "kernelspec": {
   "display_name": "spatialdata",
   "language": "python",
   "name": "python3"
  },
  "language_info": {
   "codemirror_mode": {
    "name": "ipython",
    "version": 3
   },
   "file_extension": ".py",
   "mimetype": "text/x-python",
   "name": "python",
   "nbconvert_exporter": "python",
   "pygments_lexer": "ipython3",
   "version": "3.10.8 | packaged by conda-forge | (main, Nov 22 2022, 08:25:13) [Clang 14.0.6 ]"
  },
  "orig_nbformat": 4,
  "vscode": {
   "interpreter": {
    "hash": "830f4db94a7e048b072d559f6337879e869a5f16cc1fbf14c7dab0d06a5037ae"
   }
  }
 },
 "nbformat": 4,
 "nbformat_minor": 2
}
