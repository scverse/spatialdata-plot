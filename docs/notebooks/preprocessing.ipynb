{
 "cells": [
  {
   "cell_type": "code",
   "execution_count": 1,
   "id": "62f06dbc-5073-4d1c-8767-91db1a54ffe9",
   "metadata": {
    "tags": []
   },
   "outputs": [
    {
     "name": "stderr",
     "output_type": "stream",
     "text": [
      "/Users/harald/Documents/opt/spatdata/env/lib/python3.9/site-packages/geopandas/_compat.py:123: UserWarning: The Shapely GEOS version (3.11.1-CAPI-1.17.1) is incompatible with the GEOS version PyGEOS was compiled with (3.10.4-CAPI-1.16.2). Conversions between both will be slow.\n",
      "  warnings.warn(\n",
      "/Users/harald/Documents/opt/spatdata/env/lib/python3.9/site-packages/spatialdata/__init__.py:9: UserWarning: Geopandas was set to use PyGEOS, changing to shapely 2.0 with:\n",
      "\n",
      "\tgeopandas.options.use_pygeos = True\n",
      "\n",
      "If you intended to use PyGEOS, set the option to False.\n",
      "  _check_geopandas_using_shapely()\n"
     ]
    }
   ],
   "source": [
    "import spatialdata as sd"
   ]
  },
  {
   "cell_type": "markdown",
   "id": "0a37df26-4d31-4695-ab60-f7532327b3d8",
   "metadata": {
    "tags": []
   },
   "source": [
    "# Subsetting Spatialdata objects\n",
    "\n",
    "In this tutorial, we illustrate how spatialdata objects may be subsetted using the `spatialdata-plot` preprocessing accessor `.pp`. We illustrate this on the MIBI-TOF dataset which can be obtained from the spatialdata-sandbox repo (https://github.com/giovp/spatialdata-sandbox)."
   ]
  },
  {
   "cell_type": "code",
   "execution_count": 2,
   "id": "09731d43-664e-456b-9f3b-ac6b4f20c0a2",
   "metadata": {
    "tags": []
   },
   "outputs": [],
   "source": [
    "data_dir = \"../../../spatialdata-sandbox/mibitof/data.zarr\""
   ]
  },
  {
   "cell_type": "code",
   "execution_count": 3,
   "id": "02c31376-88d4-409c-a1cc-b5806773fd60",
   "metadata": {
    "tags": []
   },
   "outputs": [],
   "source": [
    "mibi = sd.read_zarr(data_dir)"
   ]
  },
  {
   "cell_type": "markdown",
   "id": "e33dce14-6d3a-4941-81d9-9d07df608b39",
   "metadata": {},
   "source": [
    "\n",
    "Spatialdata objects may contain various *elements* including images, labels, shapes and points, as well as *coordinate systems* which represent groups of associated elements. The content of a spatialdata object may be inspected simply by invoking its `__repr__` method."
   ]
  },
  {
   "cell_type": "code",
   "execution_count": 4,
   "id": "2e7043a9-9de0-4366-b1e1-adcce488e134",
   "metadata": {
    "tags": []
   },
   "outputs": [
    {
     "data": {
      "text/plain": [
       "SpatialData object with:\n",
       "├── Images\n",
       "│     ├── 'point8_image': SpatialImage[cyx] (3, 1024, 1024)\n",
       "│     ├── 'point16_image': SpatialImage[cyx] (3, 1024, 1024)\n",
       "│     └── 'point23_image': SpatialImage[cyx] (3, 1024, 1024)\n",
       "├── Labels\n",
       "│     ├── 'point8_labels': SpatialImage[yx] (1024, 1024)\n",
       "│     ├── 'point16_labels': SpatialImage[yx] (1024, 1024)\n",
       "│     └── 'point23_labels': SpatialImage[yx] (1024, 1024)\n",
       "└── Table\n",
       "      └── AnnData object with n_obs × n_vars = 3309 × 36\n",
       "    obs: 'row_num', 'point', 'cell_id', 'X1', 'center_rowcoord', 'center_colcoord', 'cell_size', 'category', 'donor', 'Cluster', 'batch', 'library_id'\n",
       "    uns: 'spatialdata_attrs'\n",
       "    obsm: 'X_scanorama', 'X_umap', 'spatial': AnnData (3309, 36)\n",
       "with coordinate systems:\n",
       "▸ 'point8', with elements:\n",
       "        point8_image (Images), point8_labels (Labels)\n",
       "▸ 'point16', with elements:\n",
       "        point16_image (Images), point16_labels (Labels)\n",
       "▸ 'point23', with elements:\n",
       "        point23_image (Images), point23_labels (Labels)"
      ]
     },
     "execution_count": 4,
     "metadata": {},
     "output_type": "execute_result"
    }
   ],
   "source": [
    "mibi"
   ]
  },
  {
   "cell_type": "markdown",
   "id": "c2e1729d-a151-4ccf-8fbd-f43d4fb1857d",
   "metadata": {},
   "source": [
    "Importing `spatialdata-plot` equips spatialdata objects with so called accessors that extend the object with additional methods. The preprocessing accessor `.pp` allows to subset spatialdata objects and exposes the methods `.pp.get_elements` and `.pp.get_bb`."
   ]
  },
  {
   "cell_type": "code",
   "execution_count": 5,
   "id": "36a27f5f-9c47-435f-99e2-d5c691ead000",
   "metadata": {
    "tags": []
   },
   "outputs": [],
   "source": [
    "import spatialdata_plot"
   ]
  },
  {
   "cell_type": "markdown",
   "id": "4fcdc2c5-4ddb-4dc8-8207-b1cc70498d5a",
   "metadata": {},
   "source": [
    "## Subsetting spatialdata objects\n",
    "\n",
    "Any element or coordinate system may be extracted using `pp.get_elements` which receives the respective key(s) as an argument and returns a copy of the subsetted spatialdata object."
   ]
  },
  {
   "cell_type": "code",
   "execution_count": 6,
   "id": "af0dab49-dfed-4023-ba78-5127f495d178",
   "metadata": {
    "tags": []
   },
   "outputs": [
    {
     "data": {
      "text/plain": [
       "SpatialData object with:\n",
       "└── Images\n",
       "      └── 'point8_image': SpatialImage[cyx] (3, 1024, 1024)\n",
       "with coordinate systems:\n",
       "▸ 'point8', with elements:\n",
       "        point8_image (Images)"
      ]
     },
     "execution_count": 6,
     "metadata": {},
     "output_type": "execute_result"
    }
   ],
   "source": [
    "mibi.pp.get_elements(\"point8_image\")  # extract the image point8_image"
   ]
  },
  {
   "cell_type": "code",
   "execution_count": 7,
   "id": "db3fee6a-c9f6-4d04-949c-fc42f86c83b0",
   "metadata": {
    "tags": []
   },
   "outputs": [
    {
     "data": {
      "text/plain": [
       "SpatialData object with:\n",
       "├── Labels\n",
       "│     └── 'point16_labels': SpatialImage[yx] (1024, 1024)\n",
       "└── Table\n",
       "      └── AnnData object with n_obs × n_vars = 1023 × 36\n",
       "    obs: 'row_num', 'point', 'cell_id', 'X1', 'center_rowcoord', 'center_colcoord', 'cell_size', 'category', 'donor', 'Cluster', 'batch', 'library_id'\n",
       "    uns: 'spatialdata_attrs'\n",
       "    obsm: 'X_scanorama', 'X_umap', 'spatial': AnnData (1023, 36)\n",
       "with coordinate systems:\n",
       "▸ 'point16', with elements:\n",
       "        point16_labels (Labels)"
      ]
     },
     "execution_count": 7,
     "metadata": {},
     "output_type": "execute_result"
    }
   ],
   "source": [
    "mibi.pp.get_elements(\"point16_labels\")  # extract point16_labels"
   ]
  },
  {
   "cell_type": "code",
   "execution_count": 8,
   "id": "bf849e97-a9e4-4f97-a1ef-71f9a4ac1b01",
   "metadata": {
    "tags": []
   },
   "outputs": [
    {
     "data": {
      "text/plain": [
       "SpatialData object with:\n",
       "├── Images\n",
       "│     └── 'point23_image': SpatialImage[cyx] (3, 1024, 1024)\n",
       "├── Labels\n",
       "│     └── 'point23_labels': SpatialImage[yx] (1024, 1024)\n",
       "└── Table\n",
       "      └── AnnData object with n_obs × n_vars = 1241 × 36\n",
       "    obs: 'row_num', 'point', 'cell_id', 'X1', 'center_rowcoord', 'center_colcoord', 'cell_size', 'category', 'donor', 'Cluster', 'batch', 'library_id'\n",
       "    uns: 'spatialdata_attrs'\n",
       "    obsm: 'X_scanorama', 'X_umap', 'spatial': AnnData (1241, 36)\n",
       "with coordinate systems:\n",
       "▸ 'point23', with elements:\n",
       "        point23_image (Images), point23_labels (Labels)"
      ]
     },
     "execution_count": 8,
     "metadata": {},
     "output_type": "execute_result"
    }
   ],
   "source": [
    "mibi.pp.get_elements(\"point23\")  # extracts the coordinate system point23"
   ]
  },
  {
   "cell_type": "markdown",
   "id": "249006de-b363-42fc-a4a0-28f333f9f154",
   "metadata": {},
   "source": [
    "Multiple elements/coordinate systems may be selected if the keys are provided in a list."
   ]
  },
  {
   "cell_type": "code",
   "execution_count": 9,
   "id": "957be3c6-0005-4e4a-b2a9-7be8d97b3f0d",
   "metadata": {
    "tags": []
   },
   "outputs": [
    {
     "data": {
      "text/plain": [
       "SpatialData object with:\n",
       "├── Images\n",
       "│     └── 'point23_image': SpatialImage[cyx] (3, 1024, 1024)\n",
       "├── Labels\n",
       "│     └── 'point23_labels': SpatialImage[yx] (1024, 1024)\n",
       "└── Table\n",
       "      └── AnnData object with n_obs × n_vars = 1241 × 36\n",
       "    obs: 'row_num', 'point', 'cell_id', 'X1', 'center_rowcoord', 'center_colcoord', 'cell_size', 'category', 'donor', 'Cluster', 'batch', 'library_id'\n",
       "    uns: 'spatialdata_attrs'\n",
       "    obsm: 'X_scanorama', 'X_umap', 'spatial': AnnData (1241, 36)\n",
       "with coordinate systems:\n",
       "▸ 'point23', with elements:\n",
       "        point23_image (Images), point23_labels (Labels)"
      ]
     },
     "execution_count": 9,
     "metadata": {},
     "output_type": "execute_result"
    }
   ],
   "source": [
    "mibi.pp.get_elements([\"point23_image\", \"point23_labels\"])  # extract image and labels of point23"
   ]
  },
  {
   "cell_type": "code",
   "execution_count": 10,
   "id": "abc74625-2988-4376-b54c-49af4be09a2d",
   "metadata": {
    "tags": []
   },
   "outputs": [
    {
     "data": {
      "text/plain": [
       "SpatialData object with:\n",
       "├── Images\n",
       "│     ├── 'point8_image': SpatialImage[cyx] (3, 1024, 1024)\n",
       "│     └── 'point16_image': SpatialImage[cyx] (3, 1024, 1024)\n",
       "├── Labels\n",
       "│     ├── 'point8_labels': SpatialImage[yx] (1024, 1024)\n",
       "│     └── 'point16_labels': SpatialImage[yx] (1024, 1024)\n",
       "└── Table\n",
       "      └── AnnData object with n_obs × n_vars = 2068 × 36\n",
       "    obs: 'row_num', 'point', 'cell_id', 'X1', 'center_rowcoord', 'center_colcoord', 'cell_size', 'category', 'donor', 'Cluster', 'batch', 'library_id'\n",
       "    uns: 'spatialdata_attrs'\n",
       "    obsm: 'X_scanorama', 'X_umap', 'spatial': AnnData (2068, 36)\n",
       "with coordinate systems:\n",
       "▸ 'point8', with elements:\n",
       "        point8_image (Images), point8_labels (Labels)\n",
       "▸ 'point16', with elements:\n",
       "        point16_image (Images), point16_labels (Labels)"
      ]
     },
     "execution_count": 10,
     "metadata": {},
     "output_type": "execute_result"
    }
   ],
   "source": [
    "mibi.pp.get_elements([\"point8\", \"point16\"])  # extract coordinatesystems point8 and point16"
   ]
  },
  {
   "cell_type": "markdown",
   "id": "8672c517-98fe-422d-813c-322e6e06d102",
   "metadata": {},
   "source": [
    "## Extracting bounding boxes\n",
    "\n",
    "The function `.pp.get_bb` allows to select bounding boxes. The method receives the x and y coordinates of the region of interest, and by default applies the selection to all elements within the object."
   ]
  },
  {
   "cell_type": "code",
   "execution_count": 11,
   "id": "5126af41-1fd8-4b20-b825-73d54790b39a",
   "metadata": {
    "tags": []
   },
   "outputs": [
    {
     "data": {
      "text/plain": [
       "SpatialData object with:\n",
       "├── Images\n",
       "│     ├── 'point8_image': SpatialImage[cyx] (3, 300, 300)\n",
       "│     ├── 'point16_image': SpatialImage[cyx] (3, 300, 300)\n",
       "│     └── 'point23_image': SpatialImage[cyx] (3, 300, 300)\n",
       "├── Labels\n",
       "│     ├── 'point8_labels': SpatialImage[yx] (300, 300)\n",
       "│     ├── 'point16_labels': SpatialImage[yx] (300, 300)\n",
       "│     └── 'point23_labels': SpatialImage[yx] (300, 300)\n",
       "└── Table\n",
       "      └── AnnData object with n_obs × n_vars = 3309 × 36\n",
       "    obs: 'row_num', 'point', 'cell_id', 'X1', 'center_rowcoord', 'center_colcoord', 'cell_size', 'category', 'donor', 'Cluster', 'batch', 'library_id'\n",
       "    uns: 'spatialdata_attrs'\n",
       "    obsm: 'X_scanorama', 'X_umap', 'spatial': AnnData (3309, 36)\n",
       "with coordinate systems:\n",
       "▸ 'point8', with elements:\n",
       "        point8_image (Images), point8_labels (Labels)\n",
       "▸ 'point16', with elements:\n",
       "        point16_image (Images), point16_labels (Labels)\n",
       "▸ 'point23', with elements:\n",
       "        point23_image (Images), point23_labels (Labels)"
      ]
     },
     "execution_count": 11,
     "metadata": {},
     "output_type": "execute_result"
    }
   ],
   "source": [
    "mibi.pp.get_bb([200, 500], [200, 500])  # select the area within the range x and y of [200, 500]"
   ]
  },
  {
   "cell_type": "markdown",
   "id": "b213885d-bb19-45a4-b127-171862644b85",
   "metadata": {
    "tags": []
   },
   "source": [
    "## Chaining preprocessing methods\n",
    "\n",
    "Methods of preprocessing accessor may be chained such that specific parts of element(s) may be extracted. "
   ]
  },
  {
   "cell_type": "code",
   "execution_count": 12,
   "id": "cc56844b-1813-4cc3-9697-c6d969cc07b9",
   "metadata": {
    "tags": []
   },
   "outputs": [
    {
     "data": {
      "text/plain": [
       "SpatialData object with:\n",
       "├── Images\n",
       "│     └── 'point16_image': SpatialImage[cyx] (3, 300, 300)\n",
       "├── Labels\n",
       "│     └── 'point16_labels': SpatialImage[yx] (300, 300)\n",
       "└── Table\n",
       "      └── AnnData object with n_obs × n_vars = 1023 × 36\n",
       "    obs: 'row_num', 'point', 'cell_id', 'X1', 'center_rowcoord', 'center_colcoord', 'cell_size', 'category', 'donor', 'Cluster', 'batch', 'library_id'\n",
       "    uns: 'spatialdata_attrs'\n",
       "    obsm: 'X_scanorama', 'X_umap', 'spatial': AnnData (1023, 36)\n",
       "with coordinate systems:\n",
       "▸ 'point16', with elements:\n",
       "        point16_image (Images), point16_labels (Labels)"
      ]
     },
     "execution_count": 12,
     "metadata": {},
     "output_type": "execute_result"
    }
   ],
   "source": [
    "mibi.pp.get_elements(\"point16\").pp.get_bb([200, 500], [200, 500])  # first select the coordinate system, then the ROI"
   ]
  },
  {
   "cell_type": "code",
   "execution_count": null,
   "id": "c7cd3648-8bdb-4d95-95f7-b4836a8567ff",
   "metadata": {},
   "outputs": [],
   "source": []
  }
 ],
 "metadata": {
  "kernelspec": {
   "display_name": "Python 3 (ipykernel)",
   "language": "python",
   "name": "python3"
  },
  "language_info": {
   "codemirror_mode": {
    "name": "ipython",
    "version": 3
   },
   "file_extension": ".py",
   "mimetype": "text/x-python",
   "name": "python",
   "nbconvert_exporter": "python",
   "pygments_lexer": "ipython3",
   "version": "3.9.0"
  }
 },
 "nbformat": 4,
 "nbformat_minor": 5
}
