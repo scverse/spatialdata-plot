{
 "cells": [
  {
   "attachments": {},
   "cell_type": "markdown",
   "metadata": {},
   "source": [
    "# Demo, 2023-03-07"
   ]
  },
  {
   "cell_type": "code",
   "execution_count": 2,
   "metadata": {},
   "outputs": [
    {
     "name": "stdout",
     "output_type": "stream",
     "text": [
      "The autoreload extension is already loaded. To reload it, use:\n",
      "  %reload_ext autoreload\n"
     ]
    },
    {
     "ename": "AttributeError",
     "evalue": "module 'matplotlib.axes._subplots' has no attribute 'AxesSubplot'",
     "output_type": "error",
     "traceback": [
      "\u001b[0;31m---------------------------------------------------------------------------\u001b[0m",
      "\u001b[0;31mAttributeError\u001b[0m                            Traceback (most recent call last)",
      "Cell \u001b[0;32mIn[2], line 6\u001b[0m\n\u001b[1;32m      2\u001b[0m get_ipython()\u001b[39m.\u001b[39mrun_line_magic(\u001b[39m'\u001b[39m\u001b[39mautoreload\u001b[39m\u001b[39m'\u001b[39m, \u001b[39m'\u001b[39m\u001b[39m2\u001b[39m\u001b[39m'\u001b[39m)\n\u001b[1;32m      4\u001b[0m \u001b[39mimport\u001b[39;00m \u001b[39mspatialdata\u001b[39;00m \u001b[39mas\u001b[39;00m \u001b[39msd\u001b[39;00m\n\u001b[0;32m----> 6\u001b[0m \u001b[39mimport\u001b[39;00m \u001b[39mspatialdata_plot\u001b[39;00m\n",
      "File \u001b[0;32m~/Documents/GitHub/spatialdata-plot/src/spatialdata_plot/__init__.py:3\u001b[0m\n\u001b[1;32m      1\u001b[0m \u001b[39mfrom\u001b[39;00m \u001b[39mimportlib\u001b[39;00m\u001b[39m.\u001b[39;00m\u001b[39mmetadata\u001b[39;00m \u001b[39mimport\u001b[39;00m version\n\u001b[0;32m----> 3\u001b[0m \u001b[39mfrom\u001b[39;00m \u001b[39m.\u001b[39;00m \u001b[39mimport\u001b[39;00m pl, pp, tl\n\u001b[1;32m      5\u001b[0m __all__ \u001b[39m=\u001b[39m [\u001b[39m\"\u001b[39m\u001b[39mpl\u001b[39m\u001b[39m\"\u001b[39m, \u001b[39m\"\u001b[39m\u001b[39mpp\u001b[39m\u001b[39m\"\u001b[39m, \u001b[39m\"\u001b[39m\u001b[39mtl\u001b[39m\u001b[39m\"\u001b[39m]\n\u001b[1;32m      7\u001b[0m \u001b[39m# __version__ = version(\"spatialdata-plot\")\u001b[39;00m\n",
      "File \u001b[0;32m~/Documents/GitHub/spatialdata-plot/src/spatialdata_plot/pl/__init__.py:1\u001b[0m\n\u001b[0;32m----> 1\u001b[0m \u001b[39mfrom\u001b[39;00m \u001b[39m.\u001b[39;00m\u001b[39mbasic\u001b[39;00m \u001b[39mimport\u001b[39;00m PlotAccessor\n\u001b[1;32m      3\u001b[0m __all__ \u001b[39m=\u001b[39m [\n\u001b[1;32m      4\u001b[0m     \u001b[39m\"\u001b[39m\u001b[39mPlotAccessor\u001b[39m\u001b[39m\"\u001b[39m,\n\u001b[1;32m      5\u001b[0m ]\n",
      "File \u001b[0;32m~/Documents/GitHub/spatialdata-plot/src/spatialdata_plot/pl/basic.py:28\u001b[0m\n\u001b[1;32m     23\u001b[0m \u001b[39mfrom\u001b[39;00m \u001b[39m.\u001b[39;00m\u001b[39m.\u001b[39;00m\u001b[39maccessor\u001b[39;00m \u001b[39mimport\u001b[39;00m register_spatial_data_accessor\n\u001b[1;32m     24\u001b[0m \u001b[39mfrom\u001b[39;00m \u001b[39m.\u001b[39;00m\u001b[39m.\u001b[39;00m\u001b[39mpp\u001b[39;00m\u001b[39m.\u001b[39;00m\u001b[39mutils\u001b[39;00m \u001b[39mimport\u001b[39;00m _get_region_key, _verify_plotting_tree_exists\n\u001b[1;32m     27\u001b[0m \u001b[39m@register_spatial_data_accessor\u001b[39m(\u001b[39m\"\u001b[39m\u001b[39mpl\u001b[39m\u001b[39m\"\u001b[39m)\n\u001b[0;32m---> 28\u001b[0m \u001b[39mclass\u001b[39;00m \u001b[39mPlotAccessor\u001b[39;00m:\n\u001b[1;32m     29\u001b[0m \u001b[39m    \u001b[39m\u001b[39m\"\"\"\u001b[39;00m\n\u001b[1;32m     30\u001b[0m \u001b[39m    A class to provide plotting functions for `SpatialData` objects.\u001b[39;00m\n\u001b[1;32m     31\u001b[0m \n\u001b[0;32m   (...)\u001b[0m\n\u001b[1;32m     79\u001b[0m \n\u001b[1;32m     80\u001b[0m \u001b[39m    \"\"\"\u001b[39;00m\n\u001b[1;32m     82\u001b[0m     \u001b[39m@property\u001b[39m\n\u001b[1;32m     83\u001b[0m     \u001b[39mdef\u001b[39;00m \u001b[39msdata\u001b[39m(\u001b[39mself\u001b[39m) \u001b[39m-\u001b[39m\u001b[39m>\u001b[39m sd\u001b[39m.\u001b[39mSpatialData:\n",
      "File \u001b[0;32m~/Documents/GitHub/spatialdata-plot/src/spatialdata_plot/pl/basic.py:323\u001b[0m, in \u001b[0;36mPlotAccessor\u001b[0;34m()\u001b[0m\n\u001b[1;32m    304\u001b[0m     sdata\u001b[39m.\u001b[39mplotting_tree[\u001b[39mf\u001b[39m\u001b[39m\"\u001b[39m\u001b[39m{\u001b[39;00mn_steps\u001b[39m+\u001b[39m\u001b[39m1\u001b[39m\u001b[39m}\u001b[39;00m\u001b[39m_render_labels\u001b[39m\u001b[39m\"\u001b[39m] \u001b[39m=\u001b[39m {\n\u001b[1;32m    305\u001b[0m         \u001b[39m\"\u001b[39m\u001b[39mcell_key\u001b[39m\u001b[39m\"\u001b[39m: cell_key,\n\u001b[1;32m    306\u001b[0m         \u001b[39m\"\u001b[39m\u001b[39mcolor_key\u001b[39m\u001b[39m\"\u001b[39m: color_key,\n\u001b[0;32m   (...)\u001b[0m\n\u001b[1;32m    313\u001b[0m         \u001b[39m\"\u001b[39m\u001b[39madd_legend\u001b[39m\u001b[39m\"\u001b[39m: add_legend,\n\u001b[1;32m    314\u001b[0m     }\n\u001b[1;32m    316\u001b[0m     \u001b[39mreturn\u001b[39;00m sdata\n\u001b[1;32m    318\u001b[0m \u001b[39mdef\u001b[39;00m \u001b[39m_render_labels\u001b[39m(\n\u001b[1;32m    319\u001b[0m     \u001b[39mself\u001b[39m,\n\u001b[1;32m    320\u001b[0m     params: \u001b[39mdict\u001b[39m[\u001b[39mstr\u001b[39m, Union[\u001b[39mstr\u001b[39m, \u001b[39mint\u001b[39m, \u001b[39mfloat\u001b[39m]],\n\u001b[1;32m    321\u001b[0m     key: \u001b[39mstr\u001b[39m,\n\u001b[1;32m    322\u001b[0m     fig: matplotlib\u001b[39m.\u001b[39mfigure\u001b[39m.\u001b[39mFigure,\n\u001b[0;32m--> 323\u001b[0m     ax: matplotlib\u001b[39m.\u001b[39;49maxes\u001b[39m.\u001b[39;49m_subplots\u001b[39m.\u001b[39;49mAxesSubplot,\n\u001b[1;32m    324\u001b[0m ) \u001b[39m-\u001b[39m\u001b[39m>\u001b[39m \u001b[39mNone\u001b[39;00m:\n\u001b[1;32m    325\u001b[0m     region_key \u001b[39m=\u001b[39m _get_region_key(\u001b[39mself\u001b[39m\u001b[39m.\u001b[39m_sdata)\n\u001b[1;32m    327\u001b[0m     \u001b[39m# subset table to only the entires specified by 'key'\u001b[39;00m\n",
      "\u001b[0;31mAttributeError\u001b[0m: module 'matplotlib.axes._subplots' has no attribute 'AxesSubplot'"
     ]
    }
   ],
   "source": [
    "%load_ext autoreload\n",
    "%autoreload 2\n",
    "\n",
    "import spatialdata as sd\n",
    "\n",
    "import spatialdata_plot"
   ]
  },
  {
   "cell_type": "code",
   "execution_count": 3,
   "metadata": {},
   "outputs": [
    {
     "ename": "AttributeError",
     "evalue": "module 'matplotlib.axes' has no attribute 'AxesSubplot'",
     "output_type": "error",
     "traceback": [
      "\u001b[0;31m---------------------------------------------------------------------------\u001b[0m",
      "\u001b[0;31mAttributeError\u001b[0m                            Traceback (most recent call last)",
      "Cell \u001b[0;32mIn[3], line 3\u001b[0m\n\u001b[1;32m      1\u001b[0m \u001b[39mimport\u001b[39;00m \u001b[39mmatplotlib\u001b[39;00m\n\u001b[0;32m----> 3\u001b[0m matplotlib\u001b[39m.\u001b[39;49maxes\u001b[39m.\u001b[39;49mAxesSubplot\n",
      "\u001b[0;31mAttributeError\u001b[0m: module 'matplotlib.axes' has no attribute 'AxesSubplot'"
     ]
    }
   ],
   "source": [
    "import matplotlib\n",
    "\n",
    "matplotlib.axes.AxesSubplot"
   ]
  },
  {
   "attachments": {},
   "cell_type": "markdown",
   "metadata": {},
   "source": [
    "## Load data from spatialdata-sandbox\n",
    "The mibitof data contains:\n",
    "- 3 coordinate systems (`point8`, `point16`, `point23`)\n",
    "- each coordinate systems contains an associated image (`XXX_image`) and a label (`XXX_labels`)\n",
    "- a table containing annotations for the three labels"
   ]
  },
  {
   "cell_type": "code",
   "execution_count": null,
   "metadata": {},
   "outputs": [
    {
     "data": {
      "text/plain": [
       "SpatialData object with:\n",
       "├── Images\n",
       "│     ├── 'point8_image': SpatialImage[cyx] (3, 1024, 1024)\n",
       "│     ├── 'point16_image': SpatialImage[cyx] (3, 1024, 1024)\n",
       "│     └── 'point23_image': SpatialImage[cyx] (3, 1024, 1024)\n",
       "├── Labels\n",
       "│     ├── 'point8_labels': SpatialImage[yx] (1024, 1024)\n",
       "│     ├── 'point16_labels': SpatialImage[yx] (1024, 1024)\n",
       "│     └── 'point23_labels': SpatialImage[yx] (1024, 1024)\n",
       "└── Table\n",
       "      └── AnnData object with n_obs × n_vars = 3309 × 36\n",
       "    obs: 'row_num', 'point', 'cell_id', 'X1', 'center_rowcoord', 'center_colcoord', 'cell_size', 'category', 'donor', 'Cluster', 'batch', 'library_id'\n",
       "    uns: 'spatialdata_attrs'\n",
       "    obsm: 'X_scanorama', 'X_umap', 'spatial': AnnData (3309, 36)\n",
       "with coordinate systems:\n",
       "▸ 'point8', with elements:\n",
       "        point8_image (Images), point8_labels (Labels)\n",
       "▸ 'point16', with elements:\n",
       "        point16_image (Images), point16_labels (Labels)\n",
       "▸ 'point23', with elements:\n",
       "        point23_image (Images), point23_labels (Labels)"
      ]
     },
     "execution_count": 2,
     "metadata": {},
     "output_type": "execute_result"
    }
   ],
   "source": [
    "data_dir = \"/Users/tim.treis/Documents/GitHub/spatialdata-sandbox/\"\n",
    "\n",
    "mibi = sd.read_zarr(data_dir + \"mibitof/data.zarr\")\n",
    "\n",
    "mibi"
   ]
  },
  {
   "attachments": {},
   "cell_type": "markdown",
   "metadata": {},
   "source": [
    "## Use `sdata.pp.get_elements()` to subset data\n",
    "- Can be used to filter by `coordinate_systems`, `images`, `labels`, `polygons`, etc\n",
    "- Accepts the unique keys as a list of strings"
   ]
  },
  {
   "attachments": {},
   "cell_type": "markdown",
   "metadata": {},
   "source": [
    "### Select two of the three coordinate systems (retains all members)"
   ]
  },
  {
   "cell_type": "code",
   "execution_count": null,
   "metadata": {},
   "outputs": [
    {
     "name": "stdout",
     "output_type": "stream",
     "text": [
      "['point8_labels', 'point16_labels']\n"
     ]
    },
    {
     "data": {
      "text/plain": [
       "SpatialData object with:\n",
       "├── Images\n",
       "│     ├── 'point8_image': SpatialImage[cyx] (3, 1024, 1024)\n",
       "│     └── 'point16_image': SpatialImage[cyx] (3, 1024, 1024)\n",
       "├── Labels\n",
       "│     ├── 'point8_labels': SpatialImage[yx] (1024, 1024)\n",
       "│     └── 'point16_labels': SpatialImage[yx] (1024, 1024)\n",
       "└── Table\n",
       "      └── AnnData object with n_obs × n_vars = 2068 × 36\n",
       "    obs: 'row_num', 'point', 'cell_id', 'X1', 'center_rowcoord', 'center_colcoord', 'cell_size', 'category', 'donor', 'Cluster', 'batch', 'library_id'\n",
       "    uns: 'spatialdata_attrs'\n",
       "    obsm: 'X_scanorama', 'X_umap', 'spatial': AnnData (2068, 36)\n",
       "with coordinate systems:\n",
       "▸ 'point8', with elements:\n",
       "        point8_image (Images), point8_labels (Labels)\n",
       "▸ 'point16', with elements:\n",
       "        point16_image (Images), point16_labels (Labels)"
      ]
     },
     "execution_count": 3,
     "metadata": {},
     "output_type": "execute_result"
    }
   ],
   "source": [
    "mibi.pp.get_elements([\"point8\", \"point16\"])"
   ]
  },
  {
   "attachments": {},
   "cell_type": "markdown",
   "metadata": {},
   "source": [
    "### Select only one image (only retains its coordinate system)"
   ]
  },
  {
   "cell_type": "code",
   "execution_count": null,
   "metadata": {},
   "outputs": [
    {
     "name": "stdout",
     "output_type": "stream",
     "text": [
      "[]\n"
     ]
    },
    {
     "data": {
      "text/plain": [
       "SpatialData object with:\n",
       "└── Images\n",
       "      └── 'point8_image': SpatialImage[cyx] (3, 1024, 1024)\n",
       "with coordinate systems:\n",
       "▸ 'point8', with elements:\n",
       "        point8_image (Images)"
      ]
     },
     "execution_count": 4,
     "metadata": {},
     "output_type": "execute_result"
    }
   ],
   "source": [
    "mibi.pp.get_elements([\"point8_image\"])"
   ]
  },
  {
   "cell_type": "code",
   "execution_count": null,
   "metadata": {},
   "outputs": [
    {
     "name": "stdout",
     "output_type": "stream",
     "text": [
      "['point8_labels']\n"
     ]
    },
    {
     "data": {
      "text/plain": [
       "SpatialData object with:\n",
       "├── Labels\n",
       "│     └── 'point8_labels': SpatialImage[yx] (1024, 1024)\n",
       "└── Table\n",
       "      └── AnnData object with n_obs × n_vars = 1045 × 36\n",
       "    obs: 'row_num', 'point', 'cell_id', 'X1', 'center_rowcoord', 'center_colcoord', 'cell_size', 'category', 'donor', 'Cluster', 'batch', 'library_id'\n",
       "    uns: 'spatialdata_attrs'\n",
       "    obsm: 'X_scanorama', 'X_umap', 'spatial': AnnData (1045, 36)\n",
       "with coordinate systems:\n",
       "▸ 'point8', with elements:\n",
       "        point8_labels (Labels)"
      ]
     },
     "execution_count": 5,
     "metadata": {},
     "output_type": "execute_result"
    }
   ],
   "source": [
    "mibi.pp.get_elements([\"point8_labels\"])"
   ]
  },
  {
   "attachments": {},
   "cell_type": "markdown",
   "metadata": {},
   "source": [
    "### Pick and choose from different coordinate systems (is that useful?)"
   ]
  },
  {
   "cell_type": "code",
   "execution_count": null,
   "metadata": {},
   "outputs": [
    {
     "name": "stdout",
     "output_type": "stream",
     "text": [
      "['point16_labels']\n"
     ]
    },
    {
     "data": {
      "text/plain": [
       "SpatialData object with:\n",
       "├── Images\n",
       "│     └── 'point8_image': SpatialImage[cyx] (3, 1024, 1024)\n",
       "├── Labels\n",
       "│     └── 'point16_labels': SpatialImage[yx] (1024, 1024)\n",
       "└── Table\n",
       "      └── AnnData object with n_obs × n_vars = 1023 × 36\n",
       "    obs: 'row_num', 'point', 'cell_id', 'X1', 'center_rowcoord', 'center_colcoord', 'cell_size', 'category', 'donor', 'Cluster', 'batch', 'library_id'\n",
       "    uns: 'spatialdata_attrs'\n",
       "    obsm: 'X_scanorama', 'X_umap', 'spatial': AnnData (1023, 36)\n",
       "with coordinate systems:\n",
       "▸ 'point8', with elements:\n",
       "        point8_image (Images)\n",
       "▸ 'point16', with elements:\n",
       "        point16_labels (Labels)"
      ]
     },
     "execution_count": 6,
     "metadata": {},
     "output_type": "execute_result"
    }
   ],
   "source": [
    "mibi.pp.get_elements([\"point8_image\", \"point16_labels\"])"
   ]
  },
  {
   "cell_type": "markdown",
   "metadata": {},
   "source": [
    "## Plot all labels contained in the object"
   ]
  },
  {
   "cell_type": "code",
   "execution_count": null,
   "metadata": {},
   "outputs": [
    {
     "ename": "NameError",
     "evalue": "name 'OrderedDict' is not defined",
     "output_type": "error",
     "traceback": [
      "\u001b[0;31m---------------------------------------------------------------------------\u001b[0m",
      "\u001b[0;31mNameError\u001b[0m                                 Traceback (most recent call last)",
      "Cell \u001b[0;32mIn[7], line 1\u001b[0m\n\u001b[0;32m----> 1\u001b[0m _ \u001b[39m=\u001b[39m mibi\u001b[39m.\u001b[39;49mpl\u001b[39m.\u001b[39;49mrender_labels(cell_key\u001b[39m=\u001b[39;49m\u001b[39m\"\u001b[39;49m\u001b[39mcell_id\u001b[39;49m\u001b[39m\"\u001b[39;49m, color_key\u001b[39m=\u001b[39;49m\u001b[39m\"\u001b[39;49m\u001b[39mCluster\u001b[39;49m\u001b[39m\"\u001b[39;49m)\u001b[39m.\u001b[39;49mpl\u001b[39m.\u001b[39;49mshow()\n",
      "File \u001b[0;32m~/Documents/GitHub/spatialdata-plot/src/spatialdata_plot/pl/basic.py:450\u001b[0m, in \u001b[0;36mPlotAccessor.show\u001b[0;34m(self, ax, ncols, width, height, bg_color, **kwargs)\u001b[0m\n\u001b[1;32m    447\u001b[0m     \u001b[39mraise\u001b[39;00m \u001b[39mValueError\u001b[39;00m(\u001b[39m\"\u001b[39m\u001b[39mNo operations have been performed yet.\u001b[39m\u001b[39m\"\u001b[39m)\n\u001b[1;32m    449\u001b[0m \u001b[39melif\u001b[39;00m \u001b[39mlen\u001b[39m(\u001b[39mself\u001b[39m\u001b[39m.\u001b[39m_sdata\u001b[39m.\u001b[39mplotting_tree\u001b[39m.\u001b[39mkeys()) \u001b[39m>\u001b[39m \u001b[39m0\u001b[39m:\n\u001b[0;32m--> 450\u001b[0m     render_cmds \u001b[39m=\u001b[39m OrderedDict()\n\u001b[1;32m    452\u001b[0m     \u001b[39mfor\u001b[39;00m cmd, params \u001b[39min\u001b[39;00m \u001b[39mself\u001b[39m\u001b[39m.\u001b[39m_sdata\u001b[39m.\u001b[39mplotting_tree\u001b[39m.\u001b[39mitems():\n\u001b[1;32m    453\u001b[0m         \u001b[39m# strip prefix from cmd and verify it's valid\u001b[39;00m\n\u001b[1;32m    454\u001b[0m         cmd \u001b[39m=\u001b[39m \u001b[39m\"\u001b[39m\u001b[39m_\u001b[39m\u001b[39m\"\u001b[39m\u001b[39m.\u001b[39mjoin(cmd\u001b[39m.\u001b[39msplit(\u001b[39m\"\u001b[39m\u001b[39m_\u001b[39m\u001b[39m\"\u001b[39m)[\u001b[39m1\u001b[39m:])\n",
      "\u001b[0;31mNameError\u001b[0m: name 'OrderedDict' is not defined"
     ]
    }
   ],
   "source": [
    "_ = mibi.pl.render_labels(cell_key=\"cell_id\", color_key=\"Cluster\").pl.show()"
   ]
  },
  {
   "attachments": {},
   "cell_type": "markdown",
   "metadata": {},
   "source": [
    "## Filter data and then plot remaining labels"
   ]
  },
  {
   "cell_type": "code",
   "execution_count": null,
   "metadata": {},
   "outputs": [
    {
     "name": "stdout",
     "output_type": "stream",
     "text": [
      "['point8_labels']\n"
     ]
    },
    {
     "data": {
      "image/png": "[encoded data removed]",
      "text/plain": [
       "<Figure size 400x300 with 1 Axes>"
      ]
     },
     "metadata": {},
     "output_type": "display_data"
    }
   ],
   "source": [
    "_ = mibi.pp.get_elements(\"point8\").pl.render_labels(cell_key=\"cell_id\", color_key=\"Cluster\").pl.show()"
   ]
  }
 ],
 "metadata": {
  "kernelspec": {
   "display_name": "base",
   "language": "python",
   "name": "python3"
  },
  "language_info": {
   "codemirror_mode": {
    "name": "ipython",
    "version": 3
   },
   "file_extension": ".py",
   "mimetype": "text/x-python",
   "name": "python",
   "nbconvert_exporter": "python",
   "pygments_lexer": "ipython3",
   "version": "3.10.8"
  },
  "vscode": {
   "interpreter": {
    "hash": "830f4db94a7e048b072d559f6337879e869a5f16cc1fbf14c7dab0d06a5037ae"
   }
  }
 },
 "nbformat": 4,
 "nbformat_minor": 4
}
